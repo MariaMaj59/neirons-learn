{
  "nbformat": 4,
  "nbformat_minor": 0,
  "metadata": {
    "colab": {
      "provenance": [],
      "authorship_tag": "ABX9TyNI5cvQF7iYRQZwZIUtyYD+",
      "include_colab_link": true
    },
    "kernelspec": {
      "name": "python3",
      "display_name": "Python 3"
    },
    "language_info": {
      "name": "python"
    }
  },
  "cells": [
    {
      "cell_type": "markdown",
      "metadata": {
        "id": "view-in-github",
        "colab_type": "text"
      },
      "source": [
        "<a href=\"https://colab.research.google.com/github/MariaMaj59/neirons-learn/blob/main/0_Keras.ipynb\" target=\"_parent\"><img src=\"https://colab.research.google.com/assets/colab-badge.svg\" alt=\"Open In Colab\"/></a>"
      ]
    },
    {
      "cell_type": "code",
      "execution_count": null,
      "metadata": {
        "id": "r8fjRNKh2-CG"
      },
      "outputs": [],
      "source": [
        "from keras.datasets import mnist    # библиотека с базой MNIST (датасет)\n",
        "from keras.models import Sequential # класс для создания модели нейронной сети\n",
        "from keras.layers import Dense      # подключаем класс полносвязных слоев\n",
        "# полносвязная - персептрон, где все нейроны связаны со всеми\n",
        "from keras.optimizers import Adam\n",
        "# from keras.engine.training import optimizer_experimental\n",
        "\n",
        "import numpy as np"
      ]
    },
    {
      "cell_type": "code",
      "source": [
        "# МОДЕЛЬ\n",
        "\n",
        "model = Sequential() # создаем модель\n",
        "\n",
        "# добавляем слой: 2 нейрона, 2 входных параметра, смещение отключено\n",
        "model.add(Dense(2, input_dim = 2, use_bias = False))\n",
        "# добавляем слой: 1 нейрон, смещение отключено\n",
        "model.add(Dense(1, use_bias = False))"
      ],
      "metadata": {
        "id": "m2ibcS0G4Peq"
      },
      "execution_count": null,
      "outputs": []
    },
    {
      "cell_type": "code",
      "source": [
        "# ВЕСА\n",
        "\n",
        "# получение весов\n",
        "weights = model.get_weights()\n",
        "# print(weights) # сейчас там случайно сгенерированные значения\n",
        "\n",
        "w1, w2, w3, w4 = 0.42, 0.15, -0.56, 0.83\n",
        "w5, w6 = 0.93, 0.02\n",
        "# w1, w3 - веса первого нейрона; w2, w4 - веса второго нейрона\n",
        "# w5, w6 - веса выходного нейрона\n",
        "new_weight = [np.array([[w1, w3],[w2, w4]]), np.array([[w5], [w6]])]\n",
        "# установим веса\n",
        "model.set_weights(new_weight)"
      ],
      "metadata": {
        "id": "iDCNh4_JATWl"
      },
      "execution_count": null,
      "outputs": []
    },
    {
      "cell_type": "code",
      "source": [
        "# ВХОДНЫЕ ДАННЕ\n",
        "\n",
        "x1, x2 = 7.2, -5.8\n",
        "\n",
        "# Массив размерностью [1, 2]\n",
        "# 2 - количество входных параметров\n",
        "# 1 - количество примеров\n",
        "x_train = np.expand_dims(np.array([x1, x2]), 0)\n",
        "\n",
        "# получаем значение модели при данных весах и входных данных\n",
        "y = model.predict(x_train)\n",
        "# print(y)"
      ],
      "metadata": {
        "colab": {
          "base_uri": "https://localhost:8080/"
        },
        "id": "IqBOs40WiTEH",
        "outputId": "0b713650-04a1-43c9-d674-70e5650e8826"
      },
      "execution_count": null,
      "outputs": [
        {
          "output_type": "stream",
          "name": "stdout",
          "text": [
            "1/1 [==============================] - 0s 221ms/step\n"
          ]
        }
      ]
    },
    {
      "cell_type": "code",
      "source": [
        "# ФУНКЦИЯ АКТИВАЦИИ\n",
        "\n",
        "# Выбор функции активации для слоя, по умолчанию - linear\n",
        "# relu      Все что меньше 0 преобразуется в 0\n",
        "# tanh      Функция гиперболического тангенса от -1 до 1\n",
        "# softmax   Передает вероятности - сумма нейронов слоя = 1\n",
        "model_a = Sequential()\n",
        "model_a.add(Dense(2, input_dim = 2,  activation='sigmoid', use_bias = False))\n",
        "model_a.add(Dense(2, activation='sigmoid'))"
      ],
      "metadata": {
        "id": "EmmOrYkqK-HF"
      },
      "execution_count": null,
      "outputs": []
    },
    {
      "cell_type": "code",
      "source": [
        "# ФУНКЦИЯ ОШИБКИ\n",
        "\n",
        "# Прямой проход во время обучения - рассчитывается результат модели и и определяется значение ошибки\n",
        "# Обратный проход во время обучения - пересчет весов для уменьшения ошибки\n",
        "\n",
        "# Средняя абсолютная ошибка - mean_absolute_error (mae)\n",
        "#   модуль разности полученного значения и эталонного |y - x|\n",
        "# Среднеквадратичная ошибка - mean_squared_error (mse) \n",
        "#   (y-x)^2\n",
        "# Бинарная кроссэнтропия\n",
        "#   логарифмическая"
      ],
      "metadata": {
        "id": "5EfalZhgF7Pm"
      },
      "execution_count": null,
      "outputs": []
    },
    {
      "cell_type": "code",
      "source": [
        "# ОПТИМИЗАТОР\n",
        "\n",
        "# Обратное распространение ошибки\n",
        "#   w = w - d*lr\n",
        "#   w -   вес\n",
        "#   d -   частная производная по весу от функции ошибки\n",
        "#   lr -  шаг обучения \n",
        "# Градиентный спуск\n",
        "model_d = Sequential()\n",
        "model_d.add(Dense(1, input_dim = 2, activation='linear', use_bias=False))\n",
        "model_d.compile(optimizer='adam', loss = 'mse', metrics=['mae']) # метрика - ошибка, важна только для понимания точности, на обучение не влияет\n",
        "# model_d.compile(optimizer = Adam(0.001), loss = 'mse') # альтернативный способ\n",
        "\n",
        "x_train = np.array([[1, 0], [0, 1]])\n",
        "y_train = np.array([1,-1])\n",
        "\n",
        "l = model_d.train_on_batch(x_train, y_train) # обучаем модель на одном наборе данных, возвращает ошибку и метрику\n",
        "print(l)"
      ],
      "metadata": {
        "colab": {
          "base_uri": "https://localhost:8080/"
        },
        "id": "Cr_yRMhFQuWg",
        "outputId": "ce23d12c-6f53-4494-f95a-1b40f75ec208"
      },
      "execution_count": null,
      "outputs": [
        {
          "output_type": "stream",
          "name": "stdout",
          "text": [
            "[2.178750991821289, 1.306276559829712]\n"
          ]
        }
      ]
    }
  ]
}