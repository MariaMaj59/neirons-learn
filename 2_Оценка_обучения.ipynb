{
  "nbformat": 4,
  "nbformat_minor": 0,
  "metadata": {
    "colab": {
      "provenance": [],
      "authorship_tag": "ABX9TyOLRi7l019ZckiBmRQeP7VL",
      "include_colab_link": true
    },
    "kernelspec": {
      "name": "python3",
      "display_name": "Python 3"
    },
    "language_info": {
      "name": "python"
    }
  },
  "cells": [
    {
      "cell_type": "markdown",
      "metadata": {
        "id": "view-in-github",
        "colab_type": "text"
      },
      "source": [
        "<a href=\"https://colab.research.google.com/github/MariaMaj59/neirons-learn/blob/main/2_%D0%9E%D1%86%D0%B5%D0%BD%D0%BA%D0%B0_%D0%BE%D0%B1%D1%83%D1%87%D0%B5%D0%BD%D0%B8%D1%8F.ipynb\" target=\"_parent\"><img src=\"https://colab.research.google.com/assets/colab-badge.svg\" alt=\"Open In Colab\"/></a>"
      ]
    },
    {
      "cell_type": "code",
      "execution_count": null,
      "metadata": {
        "id": "FfDQhOOxfb2F",
        "colab": {
          "base_uri": "https://localhost:8080/"
        },
        "outputId": "c5a02b5f-d51a-434e-9afd-d738aeda10be"
      },
      "outputs": [
        {
          "output_type": "stream",
          "name": "stdout",
          "text": [
            "Mounted at /content/drive\n"
          ]
        }
      ],
      "source": [
        "# Подключение бд с гугл диска\n",
        "from google.colab import drive\n",
        "import pandas as pd\n",
        "\n",
        "drive.mount('/content/drive', force_remount = True)\n",
        "df = pd.read_csv('drive/My Drive/Colab Notebooks/Neirons/2/sonar.csv', header = None)"
      ]
    },
    {
      "cell_type": "code",
      "source": [
        "# Входные данные\n",
        "\n",
        "dataset = df.values               # Записываем только значения, без индексов\n",
        "\n",
        "X = dataset[:,:-1].astype(float)  # Все данные кроме последнего столбца\n",
        "Y = dataset[:,-1]                 # Последний столбец\n",
        "Y[Y=='R'] = 0                     # Все значения R меняем на 0\n",
        "Y[Y=='M'] = 1                     # Все значения М меняем на 1\n",
        "Y = Y.astype(int)\n",
        "print(Y.shape) # размерность данных"
      ],
      "metadata": {
        "colab": {
          "base_uri": "https://localhost:8080/"
        },
        "id": "Wx8b_oLx8zgq",
        "outputId": "8bcd05e2-be8f-4e6b-ef0f-fd1ac8b9fbcc"
      },
      "execution_count": null,
      "outputs": [
        {
          "output_type": "stream",
          "name": "stdout",
          "text": [
            "(208,)\n"
          ]
        }
      ]
    },
    {
      "cell_type": "code",
      "source": [
        "# ТРЕНИРОВОЧНАЯ И ТЕСТОВАЯ ВЫБОРКИ\n",
        "from sklearn.model_selection import train_test_split\n",
        "\n",
        "x_train, x_test, y_train, y_test = train_test_split(X, Y, test_size = 0.2, shuffle = True)\n",
        "# X             Входные данные\n",
        "# Y             Выходные данные\n",
        "# test_size     Соотношение тренировочной и тестовой\n",
        "# shuffle       Перемешивать ли данные"
      ],
      "metadata": {
        "id": "-7k9VRLBwzBQ"
      },
      "execution_count": null,
      "outputs": []
    },
    {
      "cell_type": "code",
      "source": [
        "# МОДЕЛЬ\n",
        "from keras.models import Sequential\n",
        "from keras.layers import Dense\n",
        "from keras.optimizers import Adam\n",
        "\n",
        "model = Sequential()\n",
        "model.add(Dense(60, use_bias = 60, activation = 'relu'))\n",
        "model.add(Dense(30, activation = 'relu'))\n",
        "model.add(Dense(1, activation = 'sigmoid'))"
      ],
      "metadata": {
        "id": "I0C6Jli_Cfdp"
      },
      "execution_count": null,
      "outputs": []
    },
    {
      "cell_type": "code",
      "source": [
        "# КОМПИЛЯЦИЯ\n",
        "\n",
        "model.compile(loss = 'binary_crossentropy', optimizer = Adam(lr = 0.001), metrics =['accuracy'])"
      ],
      "metadata": {
        "colab": {
          "base_uri": "https://localhost:8080/"
        },
        "id": "1kU7rByOQxvm",
        "outputId": "0cbf05bf-ba64-4a43-9439-4d684cb12a1d"
      },
      "execution_count": null,
      "outputs": [
        {
          "output_type": "stream",
          "name": "stderr",
          "text": [
            "/usr/local/lib/python3.8/dist-packages/keras/optimizers/optimizer_v2/adam.py:110: UserWarning: The `lr` argument is deprecated, use `learning_rate` instead.\n",
            "  super(Adam, self).__init__(name, **kwargs)\n"
          ]
        }
      ]
    },
    {
      "cell_type": "code",
      "source": [
        "# ОБУЧЕНИЕ\n",
        "\n",
        "model.fit(x_train, y_train, batch_size = 9, epochs = 100, verbose = 1)"
      ],
      "metadata": {
        "id": "0MxMWj3MSyUr"
      },
      "execution_count": null,
      "outputs": []
    },
    {
      "cell_type": "code",
      "source": [
        "# ПРОВЕРОЧНАЯ ВЫБОРКА\n",
        "\n",
        "# ПАРАМЕТРОМ\n",
        "model.fit(x_train, y_train, batch_size = 9, epochs = 100, validation_split = 0.2, verbose = 0)\n",
        "#   validation_split = 0.2       Параметр автоматически создает проверочную выборку\n",
        "#                               - При повторном запуске обучения выборки перемешиваются\n",
        "\n",
        "# ВРУЧНУЮ\n",
        "n = 30\n",
        "model.fit(x_train[:-n], y_train[:-n], batch_size = 9, epachs = 100, validation_data = (x_train[-n:], y_train[-n:]), verbose = 0)\n",
        "#   иногда подходит только этот вариант\n",
        "#   при выделении для временных рядов\n",
        "\n",
        "# МЕТОД\n",
        "x_train, x_test, y_train, y_test = train_test_split(X, Y, test_size = 0.2, shuffle = True)\n",
        "# X             Входные данные\n",
        "# Y             Выходные данные\n",
        "# test_size     Соотношение тренировочной и тестовой\n",
        "# shuffle       Перемешивать ли данные"
      ],
      "metadata": {
        "id": "MoFXJkSXVv1E"
      },
      "execution_count": null,
      "outputs": []
    },
    {
      "cell_type": "code",
      "source": [
        "# ПРОВЕРКА НА ТЕСТОВОЙ\n",
        "\n",
        "model.evaluate(x_test, y_test, verbose=1)"
      ],
      "metadata": {
        "colab": {
          "base_uri": "https://localhost:8080/"
        },
        "id": "FyN5sGfjmOwc",
        "outputId": "320a4a75-c2e7-4b64-ebcc-21588f14c9d5"
      },
      "execution_count": null,
      "outputs": [
        {
          "output_type": "stream",
          "name": "stdout",
          "text": [
            "2/2 [==============================] - 1s 7ms/step - loss: 0.6872 - accuracy: 0.7619\n"
          ]
        },
        {
          "output_type": "execute_result",
          "data": {
            "text/plain": [
              "[0.6871929168701172, 0.761904776096344]"
            ]
          },
          "metadata": {},
          "execution_count": 23
        }
      ]
    },
    {
      "cell_type": "code",
      "source": [
        "# ВИЩУАЛИЗАЦИЯ\n",
        "import matplotlib.pyplot as plt\n",
        "\n",
        "history = model.fit(x_test, y_test, batch_size = 9, epochs = 100, validation_data = (x_test, y_test), verbose = 0)\n",
        "# print(history.history.keys())"
      ],
      "metadata": {
        "id": "xxrIenUvomuS"
      },
      "execution_count": null,
      "outputs": []
    },
    {
      "cell_type": "code",
      "source": [
        "# ГРАФИК ТОЧНОСТИ ОБУЧЕНИЯ\n",
        "plt.plot(history.history['accuracy'], label = 'доля верных ответов на обучающей выборке')\n",
        "plt.plot(history.history['val_accuracy'], label = 'доля верных ответов на тестовой выборке')\n",
        "\n",
        "plt.xlabel('Эпока обучения')\n",
        "plt.ylabel('Доля верных ответов')\n",
        "\n",
        "plt.legend()"
      ],
      "metadata": {
        "colab": {
          "base_uri": "https://localhost:8080/",
          "height": 296
        },
        "id": "lBXhTTWTuT14",
        "outputId": "24525488-a4c5-424d-9f92-632c7981a27e"
      },
      "execution_count": null,
      "outputs": [
        {
          "output_type": "execute_result",
          "data": {
            "text/plain": [
              "<matplotlib.legend.Legend at 0x7fa08fca4a30>"
            ]
          },
          "metadata": {},
          "execution_count": 46
        },
        {
          "output_type": "display_data",
          "data": {
            "text/plain": [
              "<Figure size 432x288 with 1 Axes>"
            ],
            "image/png": "[encoded data removed]"
          },
          "metadata": {
            "needs_background": "light"
          }
        }
      ]
    },
    {
      "cell_type": "code",
      "source": [
        "# ГРАФИК ОШИБКИ\n",
        "\n",
        "plt.plot(history.history['loss'], label = 'Ошибка на обучающем наборе')\n",
        "plt.plot(history.history['val_loss'], label='Ошибка на проверочном наборе')\n",
        "\n",
        "plt.xlabel('Эпока обучения')\n",
        "plt.ylabel('Доля верных ответов')\n",
        "\n",
        "plt.legend()"
      ],
      "metadata": {
        "colab": {
          "base_uri": "https://localhost:8080/",
          "height": 297
        },
        "id": "ITWBYsFvyIU9",
        "outputId": "6b7a0b7e-2b5b-47d5-aba4-8760abc6ba69"
      },
      "execution_count": null,
      "outputs": [
        {
          "output_type": "execute_result",
          "data": {
            "text/plain": [
              "<matplotlib.legend.Legend at 0x7fa08fccaaf0>"
            ]
          },
          "metadata": {},
          "execution_count": 45
        },
        {
          "output_type": "display_data",
          "data": {
            "text/plain": [
              "<Figure size 432x288 with 1 Axes>"
            ],
            "image/png": "[encoded data removed]"
          },
          "metadata": {
            "needs_background": "light"
          }
        }
      ]
    },
    {
      "cell_type": "code",
      "source": [
        "# ПЕРЕОБУЧЕНИЕ\n",
        "\n",
        "# Нейронная сеть заучивает верные ответы \n",
        "# Как бороться?\n",
        "#             Увеличивать датасет\n",
        "#             Проверять датасет на корректность чистить \n",
        "#             Упрощать архитектуру\n",
        "#             Упрощать параметаризацию\n",
        "#             Нормализовать данные\n",
        "#             Использовать Dropout\n",
        "#             Использовать BatchNormalization"
      ],
      "metadata": {
        "id": "PSFYFy0C2Grl"
      },
      "execution_count": null,
      "outputs": []
    },
    {
      "cell_type": "code",
      "source": [
        "# DROPOUT\n",
        "from keras.layers import Dropout\n",
        "\n",
        "# Случайно отключает часть нейронов слоя во время обучения\n",
        "# model.add(Dropout(0.4)) - 40%\n",
        "\n",
        "# Пример\n",
        "model.Sequential()\n",
        "model.add(Dropout(0.3, input_shape=(60,)))\n",
        "model.add(Dense(60, activation = 'relu'))\n",
        "model.add(Dropout(0.3))\n",
        "model.add(Dense(30, activation = 'relu'))\n",
        "model.add(Dropout(0.3))\n",
        "model.add(Dense(1, activstion = 'sigmoid'))"
      ],
      "metadata": {
        "id": "PO5rpJIC20Ux"
      },
      "execution_count": null,
      "outputs": []
    },
    {
      "cell_type": "code",
      "source": [
        "# BATCHNORMALIZATION\n",
        "from keras.layers import BatchNormalization\n",
        "\n",
        "# Приводит данные к нормальному распределению (от 0 до 1)\n",
        "model.add(BatchNormalization)\n",
        "# Не всегда помогает, иногда может ухудшить результат\n",
        "# Может помочь в случае градиентого взрыва - когда значения выше допустимых, сеть выводит loss и accurasy как nan"
      ],
      "metadata": {
        "id": "zbtbxtN99Ngf"
      },
      "execution_count": null,
      "outputs": []
    },
    {
      "cell_type": "code",
      "source": [
        "# СЛОВАРИ"
      ],
      "metadata": {
        "id": "6TXkAd5j-dZA"
      },
      "execution_count": null,
      "outputs": []
    }
  ]
}