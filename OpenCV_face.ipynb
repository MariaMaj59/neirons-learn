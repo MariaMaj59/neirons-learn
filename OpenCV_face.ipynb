{
  "nbformat": 4,
  "nbformat_minor": 0,
  "metadata": {
    "colab": {
      "provenance": [],
      "authorship_tag": "ABX9TyMlKIMZOzU3eCXnfk8Ut3qI",
      "include_colab_link": true
    },
    "kernelspec": {
      "name": "python3",
      "display_name": "Python 3"
    },
    "language_info": {
      "name": "python"
    }
  },
  "cells": [
    {
      "cell_type": "markdown",
      "metadata": {
        "id": "view-in-github",
        "colab_type": "text"
      },
      "source": [
        "<a href=\"https://colab.research.google.com/github/MariaMaj59/neirons-learn/blob/main/OpenCV_face.ipynb\" target=\"_parent\"><img src=\"https://colab.research.google.com/assets/colab-badge.svg\" alt=\"Open In Colab\"/></a>"
      ]
    },
    {
      "cell_type": "code",
      "execution_count": null,
      "metadata": {
        "id": "nJTfJCNe3EbU"
      },
      "outputs": [],
      "source": [
        "# https://pythonpip.ru/opencv/raspoznavanie-obnaruzhenie-lits-v-opencv\n",
        "\n",
        "import os             # доступ к файлам\n",
        "import cv2            # работа с изображением\n",
        "import numpy as np    # работа с массивами"
      ]
    },
    {
      "cell_type": "code",
      "source": [
        "# ОПРЕДЕЛЯЕМ ПУТЬ И ЗАГРУЖАЕМ МОДЕЛЬ\n",
        "\n",
        "# Модели prototxt и caffemodel можно взять в репозитории OpenCV. Файл prototxt содержит текстовое описание сети, а caffemodel — вес. \n",
        "# Я разместил их в папке model_data. \n",
        "\n",
        "# Читаем оба файла и загружаем модель.\n",
        "\n",
        "base_dir = os.path.dirname(__file__)\n",
        "prototxt_path = os.path.join(base_dir + 'model_data/deploy.prototxt')\n",
        "caffemodel_path = os.path.join(base_dir + 'model_data/weights.caffemodel')\n",
        "\n",
        "model = cv2.dnn.readNetFromCaffe(prototxt_path, caffemodel_path)"
      ],
      "metadata": {
        "id": "C7KjzgYN3Ko9"
      },
      "execution_count": null,
      "outputs": []
    },
    {
      "cell_type": "code",
      "source": [
        "# СОЗДАЕМ ПАПКИ\n",
        "\n",
        "if not os.path.exists('updated_images'):\n",
        "\tos.makedirs('updated_images')             # Папка для выходных файлов\n",
        "\n",
        "if not os.path.exists('faces'):\n",
        "\tos.makedirs('faces')                      # Папка для вырезанных лиц"
      ],
      "metadata": {
        "id": "8MEPZV3N4F7U"
      },
      "execution_count": null,
      "outputs": []
    },
    {
      "cell_type": "code",
      "source": [
        "# ЧТЕНИЕ ИЗОБРАЖЕНИЙ\n",
        "\n",
        "# Перебираем все изображения в папке images. \n",
        "# Далее делаем проверку на соответствие расширений файлов, чтобы работать только с файлами .png и .jpg.\n",
        "\n",
        "for file in os.listdir(base_dir + 'images'):\n",
        "\tfile_name, file_extension = os.path.splitext(file)\n",
        "\tif (file_extension in ['.png','.jpg']):\n",
        "\t\tprint(\"Image path: {}\".format(base_dir + 'images/' + file))"
      ],
      "metadata": {
        "id": "eaRMKQF74Zq3"
      },
      "execution_count": null,
      "outputs": []
    },
    {
      "cell_type": "code",
      "source": [
        "# ОБНАРУЖЕНИЕ ЛИЦ\n",
        "\n",
        "# Используя cv2.imread, читаем изображение и создаем blob с помощью cv2.dnn.blobFromImage. \n",
        "# Далее отправляем этот blob в модель и получаем обнаружения, используя model.forward().\n",
        "\n",
        "image = cv2.imread(base_dir + 'images/' + file)\n",
        "\n",
        "(h, w) = image.shape[:2]\n",
        "blob = cv2.dnn.blobFromImage(cv2.resize(image, (300, 300)), 1.0, (300, 300), (104.0, 177.0, 123.0))\n",
        "\n",
        "model.setInput(blob)\n",
        "detections = model.forward()"
      ],
      "metadata": {
        "id": "xLeMmzUa43NW"
      },
      "execution_count": null,
      "outputs": []
    },
    {
      "cell_type": "code",
      "source": [
        "# Создаём боксы вокруг лиц\n",
        "\n",
        "# Далее перебираем все лица, обнаруженные на изображении, и извлекаем начальную и конечную точки. \n",
        "# Затем извлекаем значение достоверности. Если алгоритм более чем на 50% уверен, что обнаружение является лицом, то вокруг него показываем прямоугольник.\n",
        "\n",
        "# Create frame around face\n",
        "for i in range(0, detections.shape[2]):\n",
        "  box = detections[0, 0, i, 3:7] * np.array([w, h, w, h])\n",
        "  (startX, startY, endX, endY) = box.astype(\"int\")\n",
        "\n",
        "  confidence = detections[0, 0, i, 2]\n",
        "\n",
        "  # If confidence > 0.5, show box around face\n",
        "  if (confidence > 0.5):\n",
        "    cv2.rectangle(image, (startX, startY), (endX, endY), (255, 255, 255), 2)\n",
        "\n",
        "cv2.imwrite(base_dir + 'updated_images/' + file, image)\n",
        "print(\"Image \" + file + \" converted successfully\")\n",
        "\n",
        "# Далее, используя cv2.imwrite, сохраняем изображение в папку updated_images с тем же именем файла."
      ],
      "metadata": {
        "id": "Ysp8DXRn5BXj"
      },
      "execution_count": null,
      "outputs": []
    },
    {
      "cell_type": "code",
      "source": [
        "# ИЗВЛЕКАЕМ ЛИЦО\n",
        "\n",
        "# Как говорилось выше, перебираем все лица, вычисляем достоверность обнаружения и, если она больше 50%, извлекаем лицо. \n",
        "# Обратите внимание на строку frame = image[startY:endY, startX:endX]. Здесь происходит извлечение.\n",
        "\n",
        "# Identify each face\n",
        "for i in range(0, detections.shape[2]):\n",
        "  box = detections[0, 0, i, 3:7] * np.array([w, h, w, h])\n",
        "  (startX, startY, endX, endY) = box.astype(\"int\")\n",
        "\n",
        "  confidence = detections[0, 0, i, 2]\n",
        "\n",
        "  # If confidence > 0.5, save it as a separate file\n",
        "  if (confidence > 0.5):\n",
        "    count += 1\n",
        "    frame = image[startY:endY, startX:endX]\n",
        "    cv2.imwrite(base_dir + 'faces/' + str(i) + '_' + file, frame)\n",
        "\n",
        "# Далее сохраняем это новое изображение в папку faces. \n",
        "# Имена файлов присваиваются следующим образом: если имя исходного изображения было sampleImage.png, имя файла после обработки будет 0_sampleImage.png \n",
        "# С каждым лицом увеличиваем счётчик и после полного выполнения выводим его на консоль."
      ],
      "metadata": {
        "id": "L6lX3h9n52mA"
      },
      "execution_count": null,
      "outputs": []
    }
  ]
}