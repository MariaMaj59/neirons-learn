{
  "nbformat": 4,
  "nbformat_minor": 0,
  "metadata": {
    "colab": {
      "provenance": [],
      "authorship_tag": "ABX9TyNaRGEyjBKIU6geSMrjpPvh",
      "include_colab_link": true
    },
    "kernelspec": {
      "name": "python3",
      "display_name": "Python 3"
    },
    "language_info": {
      "name": "python"
    }
  },
  "cells": [
    {
      "cell_type": "markdown",
      "metadata": {
        "id": "view-in-github",
        "colab_type": "text"
      },
      "source": [
        "<a href=\"https://colab.research.google.com/github/MariaMaj59/neirons-learn/blob/main/1_MNIST.ipynb\" target=\"_parent\"><img src=\"https://colab.research.google.com/assets/colab-badge.svg\" alt=\"Open In Colab\"/></a>"
      ]
    },
    {
      "cell_type": "code",
      "execution_count": null,
      "metadata": {
        "id": "8-Zf5ujl3a53"
      },
      "outputs": [],
      "source": [
        "from keras.datasets import mnist      # База данных MNIST\n",
        "from keras.models import Sequential   # Класс для создания модели\n",
        "from keras.layers import Dense        # Класс полносвязных слоев\n",
        "from keras.optimizers import Adam     # Оптимизатор\n",
        "from keras import utils               # Для преобразования выходных данных в массив векторов\n",
        "\n",
        "import numpy as np"
      ]
    },
    {
      "cell_type": "code",
      "source": [
        "# ВХОДНЫЕ ДАННЫЕ\n",
        "\n",
        "# Загрузка данных MNIST\n",
        "(x_train_mnist, y_train_mnist), (x_test_mnist,  y_test_mnist) = mnist.load_data()   # Загружает данные из MNIST в массивы, где x - входные, а y - выходные данные\n",
        "\n",
        "# Преобразование входных данных из [28][28] в [28*28]\n",
        "x_train = x_train_mnist.reshape(60000, 28*28)\n",
        "x_test = x_test_mnist.reshape(10000, 28*28)\n",
        "\n",
        "# Нормализация данных\n",
        "x_train = x_train.astype(float) / 255 # - 255 максимальное значение пикселя -> число от 0 до 1\n",
        "\n",
        "# Преобразование выходных данных из [1] в [10] (двоичная система + 1 записанная в массив по цифрам)\n",
        "y_train = utils.to_categorical(y_train_mnist, 10) \n",
        "y_test = utils.to_categorical(y_test_mnist, 10)"
      ],
      "metadata": {
        "id": "urq18Mao6B0N"
      },
      "execution_count": null,
      "outputs": []
    },
    {
      "cell_type": "code",
      "source": [
        "# МОДЕЛЬ\n",
        "\n",
        "model = Sequential()\n",
        "model.add(Dense(800, input_dim = 28*28, activation = 'relu'))\n",
        "model.add(Dense(400, activation = 'liner'))\n",
        "model.add(Dense(10, activation = 'softmax'))"
      ],
      "metadata": {
        "id": "O6odtKxgBqEh"
      },
      "execution_count": null,
      "outputs": []
    },
    {
      "cell_type": "code",
      "source": [
        "# КОМПИЛЯЦИЯ\n",
        "\n",
        "model.compile(loss = 'categorical_crossentropy', optimizer = 'adam', metrics = ['accuracy'])\n",
        "# ошибка categorical_crossentropy - для классификации данных"
      ],
      "metadata": {
        "id": "PsV3mXouGiOY"
      },
      "execution_count": null,
      "outputs": []
    },
    {
      "cell_type": "code",
      "source": [
        "# ОБУЧЕНИЕ\n",
        "\n",
        "# batch_size    Количество прохождений в прямом обходе\n",
        "# epochs        Количество обходов\n",
        "# verbose       Нужно ли отображать процесс обучения\n",
        "model.fit(x_train, y_train, batch_size = 128, epochs = 1, verbose = 1)"
      ],
      "metadata": {
        "id": "AJ-cHLDxHo72",
        "colab": {
          "base_uri": "https://localhost:8080/"
        },
        "outputId": "15f5f08c-6f0d-4bec-a2e7-f7c4faadd13e"
      },
      "execution_count": null,
      "outputs": [
        {
          "output_type": "stream",
          "name": "stdout",
          "text": [
            "469/469 [==============================] - 6s 12ms/step - loss: 0.0091 - accuracy: 0.9974\n"
          ]
        },
        {
          "output_type": "execute_result",
          "data": {
            "text/plain": [
              "<keras.callbacks.History at 0x7f74ec5b1340>"
            ]
          },
          "metadata": {},
          "execution_count": 28
        }
      ]
    },
    {
      "cell_type": "code",
      "source": [
        "# ПРОВЕРКА\n",
        "\n",
        "x = x_test[1024]\n",
        "# добавляет размерность\n",
        "x = np.expand_dims(x, axis = 0)\n",
        "\n",
        "# Получаем значение для конкретной картинки\n",
        "# Результат - вероятности каждого варианта для изображения\n",
        "prediction = model.predict(x)\n",
        "print(prediction)             # Массив вероястностей\n",
        "print(np.argmax(prediction))  # Индекс наибольшей вероятности \n",
        "print(y_test_mnist[1024])     # Правильный результат"
      ],
      "metadata": {
        "id": "1IuvG-6bHoxj",
        "colab": {
          "base_uri": "https://localhost:8080/"
        },
        "outputId": "5ad284e3-442a-439a-9d4c-c94968ad7981"
      },
      "execution_count": null,
      "outputs": [
        {
          "output_type": "stream",
          "name": "stdout",
          "text": [
            "1/1 [==============================] - 0s 74ms/step\n",
            "[[0. 0. 0. 0. 1. 0. 0. 0. 0. 0.]]\n",
            "4\n",
            "4\n"
          ]
        }
      ]
    },
    {
      "cell_type": "code",
      "source": [
        "# ДЗ Исследования\n",
        "# Меняем    Количество нейронов - 10, 100, 500\n",
        "# Меняем    Функции ошибки (lonear)\n",
        "# Меняем    batch-size (1, 10, 100, 6000)\n",
        "\n",
        "model = Sequential()\n",
        "model.add(Dense(800, input_dim = 28*28, activation = 'relu'))\n",
        "model.add(Dense(400, activation = 'relu'))\n",
        "model.add(Dense(10, activation = 'softmax'))\n",
        "model.compile(loss = 'categorical_crossentropy', optimizer = 'adam', metrics = ['accuracy'])\n",
        "model.fit(x_train, y_train, batch_size = 128, epochs = 15, verbose = 1)"
      ],
      "metadata": {
        "id": "tVEZqpb-Wov2"
      },
      "execution_count": null,
      "outputs": []
    },
    {
      "cell_type": "code",
      "source": [
        "# ДЗ - распознание\n",
        "from keras.preprocessing import image\n",
        "img = image.load_img('path', target_size = (28,28), color_mode = 'grayscale') # Для загрузки картинки\n",
        "image.img_to_array(img) # для преобразования в массив\n",
        "# Инверсия цветов, нормирование и решейп массива"
      ],
      "metadata": {
        "id": "RLjLWKJoX-u3"
      },
      "execution_count": null,
      "outputs": []
    }
  ]
}