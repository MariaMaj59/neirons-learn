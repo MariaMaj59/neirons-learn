{
  "nbformat": 4,
  "nbformat_minor": 0,
  "metadata": {
    "colab": {
      "provenance": [],
      "authorship_tag": "ABX9TyPRfjT2XyvGfBSJ0FCX5mzR",
      "include_colab_link": true
    },
    "kernelspec": {
      "name": "python3",
      "display_name": "Python 3"
    },
    "language_info": {
      "name": "python"
    }
  },
  "cells": [
    {
      "cell_type": "markdown",
      "metadata": {
        "id": "view-in-github",
        "colab_type": "text"
      },
      "source": [
        "<a href=\"https://colab.research.google.com/github/MariaMaj59/neirons-learn/blob/main/3_CNN_2D.ipynb\" target=\"_parent\"><img src=\"https://colab.research.google.com/assets/colab-badge.svg\" alt=\"Open In Colab\"/></a>"
      ]
    },
    {
      "cell_type": "code",
      "execution_count": null,
      "metadata": {
        "id": "EEBcHnEKAzBb"
      },
      "outputs": [],
      "source": [
        "# Входные данные - следить, чтобы количество пикселей было кратно размеру max-pooling\n",
        "\n",
        "# Зачем расширять границы изображения? - чтобы картинка не уменьшилась после свертки\n",
        "# Самый быстрый вариант - заполнить нулями\n",
        "\n",
        "# Conv2D\n",
        "#     Сверточный слой - или слой активации:\n",
        "#     Для каждого фрагмента n*n умножает писели на коэффициенты и суммирует полученные значения\n",
        "#     Фрагменты пересекаются, т.е. имеют общие пиксели\n",
        "\n",
        "# Ядро свертки - набор коэффициентов в слое активации (аналог весов)\n",
        "\n",
        "# MAX-Pooling\n",
        "#     Понижает разрешение картинки, сохраняя максимальную интернсивность изображения\n",
        "\n",
        "# Flatten\n",
        "# Вытягивает данные в строку"
      ]
    },
    {
      "cell_type": "code",
      "source": [
        "from keras.datasets import mnist\n",
        "from keras import Sequential\n",
        "from keras.layers import Dense, Conv2D, Flatten, Dropout, BatchNormalization, MaxPooling2D\n",
        "from keras.preprocessing.image import ImageDataGenerator # работа с изображениями\n",
        "from keras.preprocessing import image # для отрисовки изображения\n",
        "from keras.optimizers import Adam, Adadelta\n",
        "from keras import utils\n",
        "from google.colab import files\n",
        "import numpy as np\n",
        "import matplotlib.pyplot as plt\n",
        "from PIL import Image\n",
        "import random\n",
        "import math\n",
        "from google.colab import drive\n",
        "\n",
        "%matplotlib inline"
      ],
      "metadata": {
        "id": "Gd362yYJmOLe"
      },
      "execution_count": null,
      "outputs": []
    },
    {
      "cell_type": "code",
      "source": [
        "drive.mount('contant/drive')"
      ],
      "metadata": {
        "id": "P5MD30sDN52a"
      },
      "execution_count": null,
      "outputs": []
    },
    {
      "cell_type": "code",
      "source": [
        "# ЗАГРУЖАЕМ ДАТАСЕТ\n",
        "(x_train, y_train), (x_test, y_test) = mnist.load_data()\n",
        "\n",
        "# Выводим для примера картинки\n",
        "fig, axs = plt.subplots(1, 10, figsize=(25,3)) # полотно из 10 графиков\n",
        "for i in range(10):\n",
        "  label_indexes = np.where(y_train == i)[0]           # список подходящих индексов\n",
        "  index = random.choice(label_indexes)                 # случайный из индексов\n",
        "  img = x_train[index]                                # выбираем нужное изображение\n",
        "  axs[i].imshow(Image.fromarray(img), cmap = 'gray')  # отображаем изображение i-м графиком"
      ],
      "metadata": {
        "colab": {
          "base_uri": "https://localhost:8080/",
          "height": 201
        },
        "id": "hV2U6ZiEP6ob",
        "outputId": "3dbdcf89-a491-4f50-b245-426df47fae36"
      },
      "execution_count": null,
      "outputs": [
        {
          "output_type": "stream",
          "name": "stdout",
          "text": [
            "Downloading data from https://storage.googleapis.com/tensorflow/tf-keras-datasets/mnist.npz\n",
            "11490434/11490434 [==============================] - 0s 0us/step\n"
          ]
        },
        {
          "output_type": "display_data",
          "data": {
            "text/plain": [
              "<Figure size 1800x216 with 10 Axes>"
            ],
            "image/png": "[encoded data removed]"
          },
          "metadata": {
            "needs_background": "light"
          }
        }
      ]
    },
    {
      "cell_type": "code",
      "source": [
        "# Переводим y в формат one code encoding\n",
        "y_train = utils.to_categorical(y_train, 10)\n",
        "y_test = utils.to_categorical(y_test, 10)\n",
        "\n",
        "# Меняем формат данных MNIST\n",
        "# Надо добавить в конце размерность 1\n",
        "# Чтобы сверточная сеть понимала, что это черно-белые данные.\n",
        "# Альтернатива: x_train = x_train[..., None]\n",
        "# Если картинки цветные, то вместо этого в последнем канале нужно добавить цвета каждого пикселя (в готовых датасетах это чаще всего уже сделано - надо проверять)\n",
        "x_train = x_train.reshape(x_train.shape[0], 28, 28, 1)\n",
        "x_test = x_test.reshape(x_test.shape[0], 28, 28, 1)\n",
        "\n",
        "# Посмотрим форматы выборок перед обучением\n",
        "print(x_train.shape)\n",
        "print(y_train.shape)\n",
        "print(x_test.shape)\n",
        "print(y_test.shape)"
      ],
      "metadata": {
        "colab": {
          "base_uri": "https://localhost:8080/"
        },
        "id": "fV7kGPS1RjF0",
        "outputId": "33cea5ee-cb37-4cb0-d9d3-8d6ce36e399e"
      },
      "execution_count": null,
      "outputs": [
        {
          "output_type": "stream",
          "name": "stdout",
          "text": [
            "(60000, 28, 28, 1)\n",
            "(60000, 10)\n",
            "(10000, 28, 28, 1)\n",
            "(10000, 10)\n"
          ]
        }
      ]
    },
    {
      "cell_type": "code",
      "source": [
        "# Нейронная сеть\n",
        "\n",
        "# задаем batch_size\n",
        "batch_size = 128\n",
        "model = Sequential()\n",
        "model.add(BatchNormalization(input_shape=(28, 28, 1)))                # слой пакетной нормализации\n",
        "model.add(Conv2D(32, (3, 3), padding = 'same', activation = 'relu'))  # сверточный слой\n",
        "# 32                      - количество фильтров \n",
        "# (3, 3)                  - размер фильтра \n",
        "# 3                           запись аналогичная той, что выше\n",
        "# padding = 'same'        - дополнение краев нулями\n",
        "#           'valid'       - не дополнять края\n",
        "model.add(Conv2D(32, (3, 3), padding = 'same', activation = 'relu'))\n",
        "model.add(MaxPooling2D(pool_size=(2, 2)))                             # слой подвыборки\n",
        "# уменьшаяем в (y, x) раз по высоте/ширине соответственно\n",
        "model.add(Dropout(0.25))                                              # слой регуляризации \n",
        "\n",
        "model.add(Flatten())\n",
        "model.add(Dense(256, activation='relu'))\n",
        "model.add(Dropout(0.25))\n",
        "model.add(Dense(10, activation='softmax'))\n",
        "\n",
        "# Компилируем модель:\n",
        "model.compile(loss='categorical_crossentropy', optimizer='adam', metrics=['accuracy'])"
      ],
      "metadata": {
        "id": "gQzgS991Vcdt"
      },
      "execution_count": null,
      "outputs": []
    },
    {
      "cell_type": "code",
      "source": [
        "# Обучаем сеть на данных mnist\n",
        "# history = model.fit(x_train, y_train, batch_size=batch_size, epochs=15, validation_data=(x_test, y_test), verbose = 1)\n",
        "history = model.fit(x_train, y_train, batch_size=batch_size, epochs=2, validation_data=(x_test, y_test), verbose = 1)"
      ],
      "metadata": {
        "colab": {
          "base_uri": "https://localhost:8080/"
        },
        "id": "g8LYB2phYAvk",
        "outputId": "50ead4f9-5683-4630-f47e-f59d46c5c6e2"
      },
      "execution_count": null,
      "outputs": [
        {
          "output_type": "stream",
          "name": "stdout",
          "text": [
            "Epoch 1/2\n",
            "469/469 [==============================] - 160s 341ms/step - loss: 0.1187 - accuracy: 0.9640 - val_loss: 0.0432 - val_accuracy: 0.9854\n",
            "Epoch 2/2\n",
            "469/469 [==============================] - 158s 337ms/step - loss: 0.0504 - accuracy: 0.9844 - val_loss: 0.0384 - val_accuracy: 0.9872\n"
          ]
        }
      ]
    },
    {
      "cell_type": "code",
      "source": [
        "# Отображаем график точности обучения\n",
        "plt.plot(history.history['accuracy'])\n",
        "plt.plot(history.history['val_accuracy'])\n",
        "\n",
        "plt.xlabel('Эпоха обучения')\n",
        "plt.ylabel('Доля верных ответов')\n",
        "plt.legend()\n",
        "\n",
        "model.summary() # выводит информацию о модели"
      ],
      "metadata": {
        "colab": {
          "base_uri": "https://localhost:8080/",
          "height": 800
        },
        "id": "cvGH8TO2Z4b8",
        "outputId": "57fdc628-5c6d-4fb6-9a58-0265204c2df8"
      },
      "execution_count": null,
      "outputs": [
        {
          "output_type": "stream",
          "name": "stderr",
          "text": [
            "WARNING:matplotlib.legend:No handles with labels found to put in legend.\n"
          ]
        },
        {
          "output_type": "stream",
          "name": "stdout",
          "text": [
            "Model: \"sequential_2\"\n",
            "_________________________________________________________________\n",
            " Layer (type)                Output Shape              Param #   \n",
            "=================================================================\n",
            " batch_normalization_2 (Batc  (None, 28, 28, 1)        4         \n",
            " hNormalization)                                                 \n",
            "                                                                 \n",
            " conv2d_4 (Conv2D)           (None, 28, 28, 32)        320       \n",
            "                                                                 \n",
            " conv2d_5 (Conv2D)           (None, 28, 28, 32)        9248      \n",
            "                                                                 \n",
            " max_pooling2d_2 (MaxPooling  (None, 14, 14, 32)       0         \n",
            " 2D)                                                             \n",
            "                                                                 \n",
            " dropout_4 (Dropout)         (None, 14, 14, 32)        0         \n",
            "                                                                 \n",
            " flatten_2 (Flatten)         (None, 6272)              0         \n",
            "                                                                 \n",
            " dense_4 (Dense)             (None, 256)               1605888   \n",
            "                                                                 \n",
            " dropout_5 (Dropout)         (None, 256)               0         \n",
            "                                                                 \n",
            " dense_5 (Dense)             (None, 10)                2570      \n",
            "                                                                 \n",
            "=================================================================\n",
            "Total params: 1,618,030\n",
            "Trainable params: 1,618,028\n",
            "Non-trainable params: 2\n",
            "_________________________________________________________________\n"
          ]
        },
        {
          "output_type": "display_data",
          "data": {
            "text/plain": [
              "<Figure size 432x288 with 1 Axes>"
            ],
            "image/png": "[encoded data removed]"
          },
          "metadata": {
            "needs_background": "light"
          }
        }
      ]
    },
    {
      "cell_type": "code",
      "source": [
        "# Определим цифру из тестовой выборки\n",
        "n = 512\n",
        "prediction=model.predict(x_test)\n",
        "\n",
        "print('Выход сети:', prediction[n])\n",
        "print('Распознанная цифра:', np.argmax(prediction[n]))\n",
        "print('Верный ответ:', np.argmax(y_test[n]))"
      ],
      "metadata": {
        "colab": {
          "base_uri": "https://localhost:8080/"
        },
        "id": "7b8bBFJLcox9",
        "outputId": "36b5cd6e-a8f2-4035-e8c8-d829225713da"
      },
      "execution_count": null,
      "outputs": [
        {
          "output_type": "stream",
          "name": "stdout",
          "text": [
            "313/313 [==============================] - 7s 21ms/step\n",
            "Выход сети: [3.5572057e-08 7.4123900e-06 9.9999171e-01 1.3533750e-07 3.2196197e-11\n",
            " 1.1563929e-10 1.5198093e-10 3.3442550e-08 5.4130868e-07 4.5791829e-10]\n",
            "Распознанная цифра: 2\n",
            "Верный ответ: 2\n"
          ]
        }
      ]
    },
    {
      "cell_type": "code",
      "source": [
        "# Смотрим на эту цифру\n",
        "plt.imshow(x_test[n,:,:,0])"
      ],
      "metadata": {
        "colab": {
          "base_uri": "https://localhost:8080/",
          "height": 282
        },
        "id": "NN3ndwVedb4m",
        "outputId": "b16761e9-ff72-4b08-df2e-4e3bc2f2257c"
      },
      "execution_count": null,
      "outputs": [
        {
          "output_type": "execute_result",
          "data": {
            "text/plain": [
              "<matplotlib.image.AxesImage at 0x7ff9be572220>"
            ]
          },
          "metadata": {},
          "execution_count": 19
        },
        {
          "output_type": "display_data",
          "data": {
            "text/plain": [
              "<Figure size 432x288 with 1 Axes>"
            ],
            "image/png": "[encoded data removed]"
          },
          "metadata": {
            "needs_background": "light"
          }
        }
      ]
    }
  ]
}